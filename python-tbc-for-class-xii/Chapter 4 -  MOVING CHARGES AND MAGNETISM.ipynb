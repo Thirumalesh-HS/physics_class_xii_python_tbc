{
 "cells": [
  {
   "cell_type": "markdown",
   "metadata": {},
   "source": [
    "# Chapter 4\n",
    "# MOVING CHARGES AND MAGNETISM"
   ]
  },
  {
   "cell_type": "markdown",
   "metadata": {},
   "source": [
    "## Example 4.1; Page No 136"
   ]
  },
  {
   "cell_type": "code",
   "execution_count": 1,
   "metadata": {
    "collapsed": false
   },
   "outputs": [
    {
     "name": "stdout",
     "output_type": "stream",
     "text": [
      "magnitude of magnetic field is:  1.06909090909 Tesla\n"
     ]
    }
   ],
   "source": [
    "# Given Data\n",
    "from ipywidgets import interact\n",
    "def magnetic(m,I,l):\n",
    "                 # m = mass of wire\n",
    "    g = 9.8      # gravity\n",
    "                 # I = current in wire\n",
    "                 # l = length of wire\n",
    "# Formula to calculate magnitude of magnetic field B = m*g/I*l\n",
    "    B = (m * g)/(I * l)\n",
    "    print \"magnitude of magnetic field is: \",B,\"Tesla\"\n",
    "interact(magnetic,m=(0.1,1),I=(1,2,0.1),l=(1,10,0.5))"
   ]
  },
  {
   "cell_type": "markdown",
   "metadata": {},
   "source": [
    "## Example 4.3; Page No 139"
   ]
  },
  {
   "cell_type": "code",
   "execution_count": 15,
   "metadata": {
    "collapsed": false
   },
   "outputs": [
    {
     "name": "stdout",
     "output_type": "stream",
     "text": [
      "Radius of the path of an electron is:  0.28125 meters\n",
      "Frequency is:  16976527.2631 Hz\n",
      "Energy is:  4.05e-16 Joules\n",
      "Energy is:  2.53125 Kev\n"
     ]
    }
   ],
   "source": [
    "import math as mp\n",
    "# Given Data\n",
    "m = 9e-31           # mass of electron\n",
    "v = 3e+7            # speed of electron\n",
    "q = 1.6e-19         # charge on electron\n",
    "B = 6e-4            # magnetic field\n",
    "Kev = 1.6e-19       # 1 eV = 1.6 × 10^–19 J\n",
    "# Radius of the path of an electron is r = m*v/q*B\n",
    "r = (m * v)/(q * B)\n",
    "print\"Radius of the path of an electron is: \",r,\"meters\"\n",
    "# Frequency is f = v/(2*pi*r)\n",
    "f = (v/(2 * mp.pi * r))\n",
    "print \"Frequency is: \",f,\"Hz\"\n",
    "# Energy is (1/2)*m*v*v\n",
    "E = (m*v*v)/2\n",
    "print \"Energy is: \",E,\"Joules\"\n",
    "E1 = (E / Kev)/1000\n",
    "print \"Energy is: \",E1,\"Kev\""
   ]
  },
  {
   "cell_type": "markdown",
   "metadata": {},
   "source": [
    "## Example 4.4; Page No 142"
   ]
  },
  {
   "cell_type": "code",
   "execution_count": 23,
   "metadata": {
    "collapsed": false
   },
   "outputs": [
    {
     "name": "stdout",
     "output_type": "stream",
     "text": [
      "kinetic energy (in MeV) of the proton beam produced by the accelerator is:  7.10611516878 Mev\n"
     ]
    }
   ],
   "source": [
    "import math\n",
    "# Given Data\n",
    "f = 10e6         # frequency of cyclotron\n",
    "r = 0.6          # radius of \"dees\"\n",
    "Mp = 1.67e-27    # mass of proton\n",
    "Mev = 1.67e-13   # 1 MeV = 1.6 × 10^–13 J\n",
    "q = 1.6e-19      # charge of electron\n",
    "# Magnetic field is calculated by B = (2*pi*m*f)/q\n",
    "B = (2 * math.pi * Mp * f)/q\n",
    "# Final velocity of protons is v = r * 2*pi * v\n",
    "v = r * 2 * math.pi * f\n",
    "# Energy of protons \n",
    "E1 = (Mp * v * v)/2\n",
    "E2 = (E1 / Mev)\n",
    "print \"kinetic energy (in MeV) of the proton beam produced by the accelerator is: \",E2,\"Mev\""
   ]
  },
  {
   "cell_type": "markdown",
   "metadata": {},
   "source": [
    "## Example 4.7; Page No 147"
   ]
  },
  {
   "cell_type": "code",
   "execution_count": 2,
   "metadata": {
    "collapsed": false
   },
   "outputs": [
    {
     "name": "stdout",
     "output_type": "stream",
     "text": [
      "Magnetic field at the centre of the coil is:  0.00090625 Tesla\n"
     ]
    }
   ],
   "source": [
    "import math\n",
    "from ipywidgets import interact\n",
    "# Given Data\n",
    "def field(N,I,R):\n",
    "    u0 = 12.5e-7\n",
    "                # N = No of turn of coil\n",
    "                # I = current carried by coil\n",
    "    R = R/100.0 # R = radius of coil\n",
    "# Magnetic field at the centre of the coil is B = (u0*N*I)/(2*R)\n",
    "    B = (u0 * N * I)/(2 * R)\n",
    "    print \"Magnetic field at the centre of the coil is: \",B,\"Tesla\"\n",
    "interact(field,N=(100,500,10),I=(1,2,0.1),R=(10,50,10))"
   ]
  },
  {
   "cell_type": "markdown",
   "metadata": {},
   "source": [
    "## Example 4.9; Page No 154"
   ]
  },
  {
   "cell_type": "code",
   "execution_count": 3,
   "metadata": {
    "collapsed": false
   },
   "outputs": [
    {
     "name": "stdout",
     "output_type": "stream",
     "text": [
      "Magnetic field inside the solenoid is: 0.0008 Tesla\n"
     ]
    }
   ],
   "source": [
    "from ipywidgets import interact\n",
    "# Given Data\n",
    "    # l = length of solenoid\n",
    "    # N = No of turns\n",
    "    # I = Current in coil\n",
    "def solenoid(l,N,I):    \n",
    "    u0 = 12.5e-7\n",
    "# number of turns per unit length is n = N/l\n",
    "    n = N/l\n",
    "# magnitude of the magnetic field inside the solenoid is B = u0 *n *I\n",
    "    B = u0 * n * I\n",
    "    print\"Magnetic field inside the solenoid is:\",B,\"Tesla\"\n",
    "interact(solenoid,l=(0.1,1,0.1),N=(100,500,10),I=(1,2,0.1))"
   ]
  },
  {
   "cell_type": "markdown",
   "metadata": {},
   "source": [
    "## Example 4.11; Page No 159"
   ]
  },
  {
   "cell_type": "code",
   "execution_count": 4,
   "metadata": {
    "collapsed": false
   },
   "outputs": [
    {
     "name": "stdout",
     "output_type": "stream",
     "text": [
      "Final torque is:  1461.23014141 N-cm\n",
      "angular speed acquired by the coil is:  170.95204833 s^-1\n"
     ]
    }
   ],
   "source": [
    "import math\n",
    "# Given Data\n",
    "def torque(N,I,R):\n",
    "    u0 = 12.5e-7\n",
    "#I = 3.2         # current in the coil\n",
    "#R = 0.1         # radius of coil\n",
    "#N = 100         # no of turns of coil\n",
    "    i = 0.1         # moment of inertia\n",
    "# Magnetic field of the coil is B = (u0*N*I)/(2*R)\n",
    "    B = (u0 * N * I)/(2 * R)\n",
    "    B = B*1000\n",
    "# Magnetic Moment is m = N*I*A\n",
    "    m = N*I*math.pi*R*R\n",
    "# torque is given by τ = m*B*sinθ\n",
    "# Initially, θ = 0. Thus, initial torque τi = 0. Finally, θ = π/2 (or 90º)\n",
    "# Therefore sin(90)=1\n",
    "    t = m*B\n",
    "    print\"Final torque is: \",t,\"N-cm\" \n",
    "# angular speed acquired by the coil when it has rotated by 90º is w = (2*m*B/i)^1/2\n",
    "    w = math.sqrt((2*m*B)/i)\n",
    "    print\"angular speed acquired by the coil is: \",w,\"s^-1\"\n",
    "interact(torque,N=(100,500,10),I=(1,4,0.1),R=(0.1,2,0.1))"
   ]
  },
  {
   "cell_type": "markdown",
   "metadata": {},
   "source": [
    "## Example 4.13; Page No 165"
   ]
  },
  {
   "cell_type": "code",
   "execution_count": 1,
   "metadata": {
    "collapsed": false
   },
   "outputs": [
    {
     "name": "stdout",
     "output_type": "stream",
     "text": [
      "Current for series equivalent resistance is:  0.047619047619 Amp\n",
      "Current for galvanometer converted to an ammeter is:  0.993379675604 Amp\n",
      "Current for ideal ammeter with zero resistance 1.0 Amp\n"
     ]
    }
   ],
   "source": [
    "# Given Data\n",
    "Rg = 60            # Galvanometer Resistance\n",
    "Rs = 0.02          # Shunt Resistance\n",
    "V = 3.0              # voltage of cell\n",
    "R = 3\n",
    "# Total Resistance in the circuit \n",
    "R1 = Rg + R\n",
    "# current for series equivalent resistance\n",
    "I1 = V / R1\n",
    "print \"Current for series equivalent resistance is: \",I1,\"Amp\"\n",
    "# Resistance of the galvanometer converted to an ammeter is R = (Rg * Rs)/(Rg + Rs)\n",
    "Rgs = (Rg * Rs)/(Rg + Rs)\n",
    "R2 = Rgs + R\n",
    "# Current for galvanometer converted to an ammeter \n",
    "I2 = V / R2 \n",
    "print \"Current for galvanometer converted to an ammeter is: \",I2,\"Amp\"\n",
    "# For the ideal ammeter with zero resistance\n",
    "I3 = V/R\n",
    "print \"Current for ideal ammeter with zero resistance\",I3,\"Amp\""
   ]
  },
  {
   "cell_type": "markdown",
   "metadata": {},
   "source": [
    "# Right Hand Rule showing magnetic field lines direction for current "
   ]
  },
  {
   "cell_type": "code",
   "execution_count": 12,
   "metadata": {
    "collapsed": false
   },
   "outputs": [
    {
     "data": {
      "image/png": "[encoded data removed]",
      "text/plain": [
       "<matplotlib.figure.Figure at 0xc34f9e8>"
      ]
     },
     "metadata": {},
     "output_type": "display_data"
    },
    {
     "name": "stdout",
     "output_type": "stream",
     "text": [
      "Current flowing into the plane is represented by Cross \n",
      "Current flowing out of the plane is represented by Dot \n",
      "To change the direction of magnetic field lines use slider \n"
     ]
    },
    {
     "data": {
      "text/plain": [
       "<function __main__.plot_field>"
      ]
     },
     "execution_count": 12,
     "metadata": {},
     "output_type": "execute_result"
    }
   ],
   "source": [
    "# Right Hand Thumb Rule\n",
    "# Reference\n",
    "# University of Redlands:Computational Tutorials\n",
    "%matplotlib inline\n",
    "from pylab import linspace,meshgrid,xlabel,ylabel,title,axis,quiver,figure,plot\n",
    "from ipywidgets import interact\n",
    "# Set limits and number of points in grid\n",
    "def plot_field(left,right):\n",
    "    if left==0 and right == 0:\n",
    "        xmax = 1\n",
    "        xmin = -xmax\n",
    "        NX = 10\n",
    "        ymax = 1\n",
    "        ymin = -ymax\n",
    "        NY = 10\n",
    "# Make grid and calculate vector components\n",
    "        x = linspace(xmin, xmax, NX)\n",
    "        y = linspace(ymin, ymax, NY)\n",
    "        X, Y = meshgrid(x, y)\n",
    "        S2 = X**2 + Y**2 # This is the radius squared\n",
    "        Bx = -Y/S2\n",
    "        By = +X/S2\n",
    "        figure()\n",
    "        QP = quiver(X,Y,Bx,By)\n",
    "        quiverkey(QP, 0.85, 1.05, 1.0, '1 mT', labelpos='N')\n",
    "        if (xmax > 0 or ymax > 0):\n",
    "        # if magnetic is field is in left direction then current flows out of the plane hence represented by \"Dot\"    \n",
    "            plot(0,0,'ro')   \n",
    "        # if magnetic is field is in right direction then current flows into the plane hence represented by \"cross\"      \n",
    "        else:\n",
    "            plot(0,0,'bx')\n",
    "# Set the left, right, bottom, top limits of axes\n",
    "        dx = (xmax - xmin)/(NX - 1) # One less gap than points\n",
    "        dy = (ymax - ymin)/(NY - 1)\n",
    "        axis([xmin-dx, xmax+dx, ymin-dy, ymax+dy])\n",
    "        title('Magnetic Field for current')\n",
    "        xlabel('x (cm)')\n",
    "        ylabel('y (cm)')\n",
    "        show()\n",
    "        print \"Current flowing into the plane is represented by Cross \"\n",
    "        print \"Current flowing out of the plane is represented by Dot \"\n",
    "        print \"To change the direction of magnetic field lines use slider \"\n",
    "    else:\n",
    "        xmax = left\n",
    "        xmin = -xmax\n",
    "        NX = 10\n",
    "        ymax = right\n",
    "        ymin = -ymax\n",
    "        NY = 10\n",
    "# Make grid and calculate vector components\n",
    "        x = linspace(xmin, xmax, NX)\n",
    "        y = linspace(ymin, ymax, NY)\n",
    "        X, Y = meshgrid(x, y)\n",
    "        S2 = X**2 + Y**2 # This is the radius squared\n",
    "        Bx = -Y/S2\n",
    "        By = +X/S2\n",
    "        figure()\n",
    "        QP = quiver(X,Y,Bx,By)\n",
    "        quiverkey(QP, 0.85, 1.05, 1.0, '1 mT', labelpos='N')\n",
    "        if (xmax > 0 or ymax > 0):\n",
    "        # if magnetic is field is in left direction then current flows out of the plane hence represented by \"Dot\" \n",
    "            plot(0,0,'ro')\n",
    "        # if magnetic is field is in right direction then current flows into the plane hence represented by \"cross\"      \n",
    "        else:\n",
    "            plot(0,0,'bx')\n",
    "# Set the left, right, bottom, top limits of axes\n",
    "        dx = (xmax - xmin)/(NX - 1) # One less gap than points\n",
    "        dy = (ymax - ymin)/(NY - 1)\n",
    "        axis([xmin-dx, xmax+dx, ymin-dy, ymax+dy])\n",
    "        title('Magnetic Field for current')\n",
    "        xlabel('x (cm)')\n",
    "        ylabel('y (cm)')\n",
    "        show()\n",
    "        print \"Current flowing into the plane is represented by Cross \"\n",
    "        print \"Current flowing out of the plane is represented by Dot \"\n",
    "        print \"To change the direction of magnetic field lines use slider \"\n",
    "# To change the direction of magnetic field lines\n",
    "interact(plot_field,left=(-10,10),right=(-10,10))"
   ]
  }
 ],
 "metadata": {
  "kernelspec": {
   "display_name": "Python 2",
   "language": "python",
   "name": "python2"
  },
  "language_info": {
   "codemirror_mode": {
    "name": "ipython",
    "version": 2
   },
   "file_extension": ".py",
   "mimetype": "text/x-python",
   "name": "python",
   "nbconvert_exporter": "python",
   "pygments_lexer": "ipython2",
   "version": "2.7.11"
  }
 },
 "nbformat": 4,
 "nbformat_minor": 0
}
