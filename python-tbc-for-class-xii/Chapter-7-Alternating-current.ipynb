{
 "cells": [
  {
   "cell_type": "markdown",
   "metadata": {},
   "source": [
    "# Chapter - 7: Alternating Current"
   ]
  },
  {
   "cell_type": "markdown",
   "metadata": {},
   "source": [
    "## Example 7.1 Page no: 236"
   ]
  },
  {
   "cell_type": "code",
   "execution_count": 13,
   "metadata": {
    "collapsed": false
   },
   "outputs": [
    {
     "name": "stdout",
     "output_type": "stream",
     "text": [
      "bulb resistance in ohm:  167\n",
      "peak voltage in volt:  285.671139599\n",
      "rms current in ampere:  1.20792079208\n"
     ]
    }
   ],
   "source": [
    "from ipywidgets import interact\n",
    "\n",
    "###################### Given ################################\n",
    "P = 100 # power rating of light bulb in watt\n",
    "V = 220 # rms voltage in volt\n",
    "\n",
    "###################### Calculation ##########################\n",
    "def bulb_R_and_Vm_and_Irms(P, V):\n",
    "    R = (V*V) / P # resistance of light bulb in ohm\n",
    "    V_m = (2**0.5) * V # peak voltage of the source in volt\n",
    "    I = P / float(V) # rms current through the bulb in ampere\n",
    "    print \"bulb resistance in ohm: \", R\n",
    "    print \"peak voltage in volt: \", V_m\n",
    "    print \"rms current in ampere: \", I\n",
    "\n",
    "\n",
    "interact(bulb_R_and_Vm_and_Irms, P=(10,1000,1), V=(110,230,1))    "
   ]
  },
  {
   "cell_type": "markdown",
   "metadata": {},
   "source": [
    "## Example 7.2 Page no: 239"
   ]
  },
  {
   "cell_type": "code",
   "execution_count": 14,
   "metadata": {
    "collapsed": false
   },
   "outputs": [
    {
     "name": "stdout",
     "output_type": "stream",
     "text": [
      "inductive reactance in ohm:  17.2787595947\n",
      "rms current in ampere:  10.9961597045\n"
     ]
    }
   ],
   "source": [
    "from ipywidgets import interact\n",
    "from math import pi\n",
    "\n",
    "###################### Given ################################\n",
    "L = 25e-3 # inductance in H\n",
    "V = 220 # rms voltage in volt\n",
    "f = 50 # source frequency in Hz\n",
    "\n",
    "###################### Calculation ##########################\n",
    "def X_L_and_I_rms(L, V, f):\n",
    "    X_L = (2*pi*f) * L # inductive reactance in ohm\n",
    "    I = V / X_L # rms current in ampere\n",
    "\n",
    "    ###################### Display Results ##################\n",
    "    print \"inductive reactance in ohm: \", X_L\n",
    "    print \"rms current in ampere: \", I\n",
    "\n",
    "interact(X_L_and_I_rms, L=(1e-3,100e-3,1e-3), V=(100,240,1), f=(45,65,1))    "
   ]
  },
  {
   "cell_type": "markdown",
   "metadata": {},
   "source": [
    "## Example 7.4 Page no: 242"
   ]
  },
  {
   "cell_type": "code",
   "execution_count": 15,
   "metadata": {
    "collapsed": false,
    "scrolled": true
   },
   "outputs": [
    {
     "name": "stdout",
     "output_type": "stream",
     "text": [
      "capacitive reactance in ohm:  57.8745247607\n",
      "rms current in ampere:  2.93738913111\n",
      "peak current in ampere:  4.15409554718\n"
     ]
    },
    {
     "data": {
      "text/plain": [
       "<function __main__.X_C_and_I_rms_and_I_m>"
      ]
     },
     "execution_count": 15,
     "metadata": {},
     "output_type": "execute_result"
    }
   ],
   "source": [
    "from ipywidgets import interact\n",
    "from math import pi, sqrt\n",
    "\n",
    "###################### Given ################################\n",
    "C = 15e-6 # capacitance in farad\n",
    "V = 220 # rms voltage in volt\n",
    "f = 50 # source frequency in Hz\n",
    "\n",
    "###################### Calculation ##########################\n",
    "def X_C_and_I_rms_and_I_m(C, V, f):\n",
    "\n",
    "    X_C = float(1) / (2*pi*f * C) # capacitive reactance in ohm\n",
    "    I = V / X_C # rms current in ampere\n",
    "    I_m = sqrt(2)*I # peak current in ampere\n",
    "\n",
    "###################### Display Results ######################\n",
    "    print \"capacitive reactance in ohm: \", X_C\n",
    "    print \"rms current in ampere: \", I\n",
    "    print \"peak current in ampere: \", I_m\n",
    "    \n",
    "interact(X_C_and_I_rms_and_I_m, C=(1e-6,100e-6,1e-6), V=(100,240,1), f=(45,65,1))    "
   ]
  },
  {
   "cell_type": "markdown",
   "metadata": {},
   "source": [
    "## Example 7.6 Page no: 251"
   ]
  },
  {
   "cell_type": "code",
   "execution_count": 12,
   "metadata": {
    "collapsed": false
   },
   "outputs": [
    {
     "name": "stdout",
     "output_type": "stream",
     "text": [
      "impedance in ohm:  882.319111386\n",
      "rms current in ampere:  0.192674053873\n",
      "voltage across R, in volt:  169.745841462\n",
      "voltage across C, in volt:  9.29243275133\n"
     ]
    }
   ],
   "source": [
    "from ipywidgets import interact\n",
    "from math import pi, sqrt\n",
    "\n",
    "###################### Given ################################\n",
    "R = 200 # resistance in ohm\n",
    "C = 15e-6 # capacitance in farad\n",
    "V = 220 # rms voltage in volt\n",
    "f = 50 # source frequency in Hz\n",
    "\n",
    "###################### Calculation ##########################\n",
    "def RC_ckt(R,C,V,f):\n",
    "    X_C = float(1) / (2*pi*f * C) # capacitive reactance in ohm\n",
    "    Z = sqrt(R*R + X_C*X_C)\n",
    "    I = V / Z # rms current in ampere\n",
    "    V_R = I*R # voltage across R, in volt\n",
    "    V_C = I*X_C # voltage across C, in volt\n",
    "\n",
    "    ################## Display Results ######################\n",
    "    print \"impedance in ohm: \", Z\n",
    "    print \"rms current in ampere: \", I\n",
    "    print \"voltage across R, in volt: \", V_R\n",
    "    print \"voltage across C, in volt: \", V_C \n",
    "    \n",
    "interact(RC_ckt, R=(1,1000,1), C=(1e-6,100e-6,1e-6), V=(100,240,5), f=(45,65,1))    "
   ]
  },
  {
   "cell_type": "markdown",
   "metadata": {},
   "source": [
    "## Example 7.8 Page no: 253"
   ]
  },
  {
   "cell_type": "code",
   "execution_count": 22,
   "metadata": {
    "collapsed": false
   },
   "outputs": [
    {
     "name": "stdout",
     "output_type": "stream",
     "text": [
      "impedance in ohm:  501.645309107\n",
      "phase difference in degrees:  4.6417503156\n",
      "rms current in ampere:  0.345345921203\n",
      "power loss in the circuit:  59.6319026457\n",
      "power factor:  0.996720174439\n"
     ]
    },
    {
     "data": {
      "text/plain": [
       "<function __main__.RLC_ckt>"
      ]
     },
     "execution_count": 22,
     "metadata": {},
     "output_type": "execute_result"
    }
   ],
   "source": [
    "from ipywidgets import interact\n",
    "from math import *\n",
    "\n",
    "###################### Given ################################\n",
    "V_m = 283 # peak voltage of sinusoidal wave in volt\n",
    "f = 50 # source frequency in Hz\n",
    "R = 3 # resistance in ohm\n",
    "L = 25.48e-3 # inductance in henry\n",
    "C = 796e-6 # capacitance in farad\n",
    "\n",
    "###################### Calculation ##########################\n",
    "def RLC_ckt(V_m, R, L, C, f):\n",
    "    X_L = (2*pi*f) * L # inductive reactance in ohm\n",
    "    X_C = float(1) / (2*pi*f * C) # capacitive reactance in ohm\n",
    "    Z = sqrt(R*R + (X_L - X_C)**2) # impedance in ohm\n",
    "    phi = atan((X_C - X_L)/float(R))*180/pi # phase difference in degrees\n",
    "    I = V_m / (sqrt(2)*Z) # rms current in ampere\n",
    "    P = I*I*R # power loss in R, in watt\n",
    "    pf = cos(phi*pi/180) # power factor\n",
    "\n",
    "    ###################### Display Results ######################\n",
    "    print \"impedance in ohm: \", Z\n",
    "    print \"phase difference in degrees: \", phi\n",
    "    print \"rms current in ampere: \", I\n",
    "    print \"power loss in the circuit: \", P\n",
    "    print \"power factor: \", pf\n",
    "\n",
    "interact(RLC_ckt, V_m=(150,340,1), R=(1,1000,1), L=(1e-3,100e-3,1e-3),C=(1e-6,100e-6,1e-6), V=(100,240,5), f=(45,65,1))    "
   ]
  },
  {
   "cell_type": "markdown",
   "metadata": {},
   "source": [
    "## Example 7.9 Page no: 254"
   ]
  },
  {
   "cell_type": "code",
   "execution_count": 20,
   "metadata": {
    "collapsed": false
   },
   "outputs": [
    {
     "name": "stdout",
     "output_type": "stream",
     "text": [
      "impedance in ohm:  188.74190185\n",
      "phase difference in degrees:  29.0484194407\n",
      "rms current in ampere:  0.917873348167\n",
      "power loss in the circuit:  139.01109474\n",
      "power factor:  0.874209692615\n"
     ]
    }
   ],
   "source": [
    "from ipywidgets import interact\n",
    "from math import pi, sqrt\n",
    "\n",
    "###################### Given ################################\n",
    "V_m = 283 # peak voltage of sinusoidal wave in volt\n",
    "f = 50 # source frequency in Hz\n",
    "R = 3 # resistance in ohm\n",
    "L = 25.48e-3 # inductance in henry\n",
    "C = 796e-6 # capacitance in farad\n",
    "\n",
    "###################### Calculation ##########################\n",
    "def resonant_ckt(V_m, R, L, C, f):\n",
    "    omega_resonant = 1 / sqrt(L*C)\n",
    "    f_resonant = omega_resonant / (2*pi)\n",
    "    X_C = float(1) / (2*pi*f * C) # capacitive reactance in ohm\n",
    "    Z = R # at resonance X_L = X_C ==> Z = R\n",
    "    V = V_m / sqrt(2) # rms voltage in volt\n",
    "    I = V / Z # rms current in ampere\n",
    "    P = I*I*R # power loss in R, in watt\n",
    "\n",
    "    ###################### Display Results ######################\n",
    "    print \"resonant frequency in Hz: \", f_resonant\n",
    "    print \"impedance in ohm: \", Z\n",
    "    print \"rms current in ampere: \", I\n",
    "    print \"power loss in the circuit during resonance, in watt: \", P\n",
    "\n",
    "interact(RLC_ckt, V_m=(150,340,1), R=(1,1000,1), L=(1e-3,100e-3,1e-3),C=(1e-6,100e-6,1e-6), V=(100,240,5), f=(45,65,1))    "
   ]
  },
  {
   "cell_type": "code",
   "execution_count": null,
   "metadata": {
    "collapsed": true
   },
   "outputs": [],
   "source": []
  }
 ],
 "metadata": {
  "kernelspec": {
   "display_name": "Python 2",
   "language": "python",
   "name": "python2"
  },
  "language_info": {
   "codemirror_mode": {
    "name": "ipython",
    "version": 2
   },
   "file_extension": ".py",
   "mimetype": "text/x-python",
   "name": "python",
   "nbconvert_exporter": "python",
   "pygments_lexer": "ipython2",
   "version": "2.7.6"
  }
 },
 "nbformat": 4,
 "nbformat_minor": 0
}
