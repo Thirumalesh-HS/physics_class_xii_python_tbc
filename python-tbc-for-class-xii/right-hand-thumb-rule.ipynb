{
 "cells": [
  {
   "cell_type": "markdown",
   "metadata": {},
   "source": [
    "# Right Hand Rule showing magnetic field lines and direction for current "
   ]
  },
  {
   "cell_type": "code",
   "execution_count": 1,
   "metadata": {
    "collapsed": false
   },
   "outputs": [
    {
     "data": {
      "image/png": "[encoded data removed]",
      "text/plain": [
       "<matplotlib.figure.Figure at 0x7f979ae37a50>"
      ]
     },
     "metadata": {},
     "output_type": "display_data"
    },
    {
     "name": "stdout",
     "output_type": "stream",
     "text": [
      "Current flowing into the plane is represented by Cross \n",
      "Current flowing out of the plane is represented by Dot \n",
      "To change the direction of magnetic field lines use slider \n"
     ]
    }
   ],
   "source": [
    "# Right Hand Thumb Rule\n",
    "# Reference\n",
    "# University of Redlands:Computational Tutorials\n",
    "%matplotlib inline\n",
    "from pylab import *\n",
    "from ipywidgets import interact\n",
    "# Set limits and number of points in grid\n",
    "def plot_field(left,right):\n",
    "    if left==0 and right == 0:\n",
    "        xmax = 1\n",
    "        xmin = -xmax\n",
    "        NX = 10\n",
    "        ymax = 1\n",
    "        ymin = -ymax\n",
    "        NY = 10\n",
    "# Make grid and calculate vector components\n",
    "        x = linspace(xmin, xmax, NX)\n",
    "        y = linspace(ymin, ymax, NY)\n",
    "        X, Y = meshgrid(x, y)\n",
    "        S2 = X**2 + Y**2 # This is the radius squared\n",
    "        Bx = -Y/S2\n",
    "        By = +X/S2\n",
    "        figure()\n",
    "        QP = quiver(X,Y,Bx,By)\n",
    "        quiverkey(QP, 0.85, 1.05, 1.0, '1 mT', labelpos='N')\n",
    "        if (xmax > 0 or ymax > 0):\n",
    "        # if magnetic is field is in left direction then current flows out of the plane hence represented by \"Dot\"    \n",
    "            plot(0,0,'ro')   \n",
    "        # if magnetic is field is in right direction then current flows into the plane hence represented by \"cross\"      \n",
    "        else:\n",
    "            plot(0,0,'bx')\n",
    "# Set the left, right, bottom, top limits of axes\n",
    "        dx = (xmax - xmin)/(NX - 1) # One less gap than points\n",
    "        dy = (ymax - ymin)/(NY - 1)\n",
    "        axis([xmin-dx, xmax+dx, ymin-dy, ymax+dy])\n",
    "        title('Magnetic Field for current')\n",
    "        xlabel('x (cm)')\n",
    "        ylabel('y (cm)')\n",
    "        show()\n",
    "        print \"Current flowing into the plane is represented by Cross \"\n",
    "        print \"Current flowing out of the plane is represented by Dot \"\n",
    "        print \"To change the direction of magnetic field lines use slider \"\n",
    "    else:\n",
    "        xmax = left\n",
    "        xmin = -xmax\n",
    "        NX = 10\n",
    "        ymax = right\n",
    "        ymin = -ymax\n",
    "        NY = 10\n",
    "# Make grid and calculate vector components\n",
    "        x = linspace(xmin, xmax, NX)\n",
    "        y = linspace(ymin, ymax, NY)\n",
    "        X, Y = meshgrid(x, y)\n",
    "        S2 = X**2 + Y**2 # This is the radius squared\n",
    "        Bx = -Y/S2\n",
    "        By = +X/S2\n",
    "        figure()\n",
    "        QP = quiver(X,Y,Bx,By)\n",
    "        quiverkey(QP, 0.85, 1.05, 1.0, '1 mT', labelpos='N')\n",
    "        if (xmax > 0 or ymax > 0):\n",
    "        # if magnetic is field is in left direction then current flows out of the plane hence represented by \"Dot\" \n",
    "            plot(0,0,'ro')\n",
    "        # if magnetic is field is in right direction then current flows into the plane hence represented by \"cross\"      \n",
    "        else:\n",
    "            plot(0,0,'bx')\n",
    "# Set the left, right, bottom, top limits of axes\n",
    "        dx = (xmax - xmin)/(NX - 1) # One less gap than points\n",
    "        dy = (ymax - ymin)/(NY - 1)\n",
    "        axis([xmin-dx, xmax+dx, ymin-dy, ymax+dy])\n",
    "        title('Magnetic Field for current')\n",
    "        xlabel('x (cm)')\n",
    "        ylabel('y (cm)')\n",
    "        show()\n",
    "        print \"Current flowing into the plane is represented by Cross \"\n",
    "        print \"Current flowing out of the plane is represented by Dot \"\n",
    "        print \"To change the direction of magnetic field lines use slider \"\n",
    "# To change the direction of magnetic field lines\n",
    "interact(plot_field,left=(-10,10),right=(-10,10))"
   ]
  },
  {
   "cell_type": "code",
   "execution_count": null,
   "metadata": {
    "collapsed": true
   },
   "outputs": [],
   "source": []
  }
 ],
 "metadata": {
  "kernelspec": {
   "display_name": "Python 2",
   "language": "python",
   "name": "python2"
  },
  "language_info": {
   "codemirror_mode": {
    "name": "ipython",
    "version": 2
   },
   "file_extension": ".py",
   "mimetype": "text/x-python",
   "name": "python",
   "nbconvert_exporter": "python",
   "pygments_lexer": "ipython2",
   "version": "2.7.6"
  }
 },
 "nbformat": 4,
 "nbformat_minor": 0
}
